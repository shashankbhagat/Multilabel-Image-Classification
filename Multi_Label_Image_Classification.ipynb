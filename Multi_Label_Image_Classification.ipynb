{
  "nbformat": 4,
  "nbformat_minor": 0,
  "metadata": {
    "colab": {
      "name": "Multi-Label Image Classification.ipynb",
      "provenance": [],
      "machine_shape": "hm",
      "include_colab_link": true
    },
    "kernelspec": {
      "name": "python3",
      "display_name": "Python 3"
    }
  },
  "cells": [
    {
      "cell_type": "markdown",
      "metadata": {
        "id": "view-in-github",
        "colab_type": "text"
      },
      "source": [
        "<a href=\"https://colab.research.google.com/github/shashankbhagat/Multilabel-Image-Classification/blob/master/Multi_Label_Image_Classification.ipynb\" target=\"_parent\"><img src=\"https://colab.research.google.com/assets/colab-badge.svg\" alt=\"Open In Colab\"/></a>"
      ]
    },
    {
      "cell_type": "code",
      "metadata": {
        "id": "Y6e_X9l8MfyU",
        "colab_type": "code",
        "colab": {}
      },
      "source": [
        "!pip install -U -q PyDrive"
      ],
      "execution_count": 0,
      "outputs": []
    },
    {
      "cell_type": "code",
      "metadata": {
        "id": "uAHiLdqk_XNd",
        "colab_type": "code",
        "colab": {
          "base_uri": "https://localhost:8080/",
          "height": 124
        },
        "outputId": "52c0e3f4-2516-42ee-a5b0-b2322c116d91"
      },
      "source": [
        "from google.colab import drive\n",
        "drive.mount('/content/drive')"
      ],
      "execution_count": 1,
      "outputs": [
        {
          "output_type": "stream",
          "text": [
            "Go to this URL in a browser: https://accounts.google.com/o/oauth2/auth?client_id=947318989803-6bn6qk8qdgf4n4g3pfee6491hc0brc4i.apps.googleusercontent.com&redirect_uri=urn%3Aietf%3Awg%3Aoauth%3A2.0%3Aoob&scope=email%20https%3A%2F%2Fwww.googleapis.com%2Fauth%2Fdocs.test%20https%3A%2F%2Fwww.googleapis.com%2Fauth%2Fdrive%20https%3A%2F%2Fwww.googleapis.com%2Fauth%2Fdrive.photos.readonly%20https%3A%2F%2Fwww.googleapis.com%2Fauth%2Fpeopleapi.readonly&response_type=code\n",
            "\n",
            "Enter your authorization code:\n",
            "··········\n",
            "Mounted at /content/drive\n"
          ],
          "name": "stdout"
        }
      ]
    },
    {
      "cell_type": "code",
      "metadata": {
        "id": "0z7p4vUO-Fvq",
        "colab_type": "code",
        "colab": {}
      },
      "source": [
        "!unzip -q '/content/drive/My Drive/Datsets/Multi_label_image_classification/Images.zip'"
      ],
      "execution_count": 0,
      "outputs": []
    },
    {
      "cell_type": "code",
      "metadata": {
        "id": "O3ufz081MsPw",
        "colab_type": "code",
        "colab": {}
      },
      "source": [
        "#do not execute\n",
        "from pydrive.auth import GoogleAuth\n",
        "from pydrive.drive import GoogleDrive\n",
        "from google.colab import auth\n",
        "from oauth2client.client import GoogleCredentials\n",
        "# Authenticate and create the PyDrive client.\n",
        "auth.authenticate_user()\n",
        "gauth = GoogleAuth()\n",
        "gauth.credentials = GoogleCredentials.get_application_default()\n",
        "drive = GoogleDrive(gauth)"
      ],
      "execution_count": 0,
      "outputs": []
    },
    {
      "cell_type": "code",
      "metadata": {
        "id": "KVmJJFSV7kiw",
        "colab_type": "code",
        "colab": {}
      },
      "source": [
        "import keras\n",
        "from keras.models import Sequential\n",
        "from keras.layers import Dense, Dropout,Flatten\n",
        "from keras.layers import Conv2D, MaxPool2D\n",
        "from keras.utils import to_categorical\n",
        "from keras.preprocessing import image\n",
        "import numpy as np\n",
        "import pandas as pd\n",
        "import matplotlib.pyplot as plt\n",
        "from sklearn.model_selection import train_test_split\n",
        "from tqdm import tqdm\n",
        "import os\n",
        "import re\n",
        "import pickle\n",
        "import multiprocessing as mp\n",
        "import threading as th\n",
        "%matplotlib inline"
      ],
      "execution_count": 0,
      "outputs": []
    },
    {
      "cell_type": "code",
      "metadata": {
        "id": "YzPo0_eDYO4p",
        "colab_type": "code",
        "colab": {
          "base_uri": "https://localhost:8080/",
          "height": 35
        },
        "outputId": "e9ab4910-3348-453d-80fb-64e84ed5dd13"
      },
      "source": [
        "trained_model_exists=False\n",
        "try:\n",
        "    f=open('/content/drive/My Drive/Datsets/Multi_label_image_classification/trained_model.bkp','rb')\n",
        "    trained_model_exists=True\n",
        "except:\n",
        "    trained_model_exists=False\n",
        "\n",
        "print(trained_model_exists)"
      ],
      "execution_count": 13,
      "outputs": [
        {
          "output_type": "stream",
          "text": [
            "False\n"
          ],
          "name": "stdout"
        }
      ]
    },
    {
      "cell_type": "code",
      "metadata": {
        "id": "B13r8DHx8a8k",
        "colab_type": "code",
        "colab": {}
      },
      "source": [
        "#do not execute\n",
        "#Download csv from Google Drive\n",
        "csv_link='https://drive.google.com/open?id=1fHX_qjo6zMZZyLHVLpdxtYnG528tU_U4'\n",
        "temp, csv_id=csv_link.split('=')\n",
        "downloaded=drive.CreateFile({'id':csv_id})\n",
        "downloaded.GetContentFile('train.csv')\n"
      ],
      "execution_count": 0,
      "outputs": []
    },
    {
      "cell_type": "code",
      "metadata": {
        "id": "covnKZgPACIU",
        "colab_type": "code",
        "outputId": "8aafbcbe-db9a-4ff9-ffdb-618880ef8a85",
        "colab": {
          "base_uri": "https://localhost:8080/",
          "height": 343
        }
      },
      "source": [
        "train=pd.read_csv('/content/drive/My Drive/Datsets/Multi_label_image_classification/train.csv')\n",
        "train.head()"
      ],
      "execution_count": 14,
      "outputs": [
        {
          "output_type": "execute_result",
          "data": {
            "text/html": [
              "<div>\n",
              "<style scoped>\n",
              "    .dataframe tbody tr th:only-of-type {\n",
              "        vertical-align: middle;\n",
              "    }\n",
              "\n",
              "    .dataframe tbody tr th {\n",
              "        vertical-align: top;\n",
              "    }\n",
              "\n",
              "    .dataframe thead th {\n",
              "        text-align: right;\n",
              "    }\n",
              "</style>\n",
              "<table border=\"1\" class=\"dataframe\">\n",
              "  <thead>\n",
              "    <tr style=\"text-align: right;\">\n",
              "      <th></th>\n",
              "      <th>Id</th>\n",
              "      <th>Genre</th>\n",
              "      <th>Action</th>\n",
              "      <th>Adventure</th>\n",
              "      <th>Animation</th>\n",
              "      <th>Biography</th>\n",
              "      <th>Comedy</th>\n",
              "      <th>Crime</th>\n",
              "      <th>Documentary</th>\n",
              "      <th>Drama</th>\n",
              "      <th>Family</th>\n",
              "      <th>Fantasy</th>\n",
              "      <th>History</th>\n",
              "      <th>Horror</th>\n",
              "      <th>Music</th>\n",
              "      <th>Musical</th>\n",
              "      <th>Mystery</th>\n",
              "      <th>N/A</th>\n",
              "      <th>News</th>\n",
              "      <th>Reality-TV</th>\n",
              "      <th>Romance</th>\n",
              "      <th>Sci-Fi</th>\n",
              "      <th>Short</th>\n",
              "      <th>Sport</th>\n",
              "      <th>Thriller</th>\n",
              "      <th>War</th>\n",
              "      <th>Western</th>\n",
              "    </tr>\n",
              "  </thead>\n",
              "  <tbody>\n",
              "    <tr>\n",
              "      <th>0</th>\n",
              "      <td>tt0086425</td>\n",
              "      <td>['Comedy', 'Drama']</td>\n",
              "      <td>0</td>\n",
              "      <td>0</td>\n",
              "      <td>0</td>\n",
              "      <td>0</td>\n",
              "      <td>1</td>\n",
              "      <td>0</td>\n",
              "      <td>0</td>\n",
              "      <td>1</td>\n",
              "      <td>0</td>\n",
              "      <td>0</td>\n",
              "      <td>0</td>\n",
              "      <td>0</td>\n",
              "      <td>0</td>\n",
              "      <td>0</td>\n",
              "      <td>0</td>\n",
              "      <td>0</td>\n",
              "      <td>0</td>\n",
              "      <td>0</td>\n",
              "      <td>0</td>\n",
              "      <td>0</td>\n",
              "      <td>0</td>\n",
              "      <td>0</td>\n",
              "      <td>0</td>\n",
              "      <td>0</td>\n",
              "      <td>0</td>\n",
              "    </tr>\n",
              "    <tr>\n",
              "      <th>1</th>\n",
              "      <td>tt0085549</td>\n",
              "      <td>['Drama', 'Romance', 'Music']</td>\n",
              "      <td>0</td>\n",
              "      <td>0</td>\n",
              "      <td>0</td>\n",
              "      <td>0</td>\n",
              "      <td>0</td>\n",
              "      <td>0</td>\n",
              "      <td>0</td>\n",
              "      <td>1</td>\n",
              "      <td>0</td>\n",
              "      <td>0</td>\n",
              "      <td>0</td>\n",
              "      <td>0</td>\n",
              "      <td>1</td>\n",
              "      <td>0</td>\n",
              "      <td>0</td>\n",
              "      <td>0</td>\n",
              "      <td>0</td>\n",
              "      <td>0</td>\n",
              "      <td>1</td>\n",
              "      <td>0</td>\n",
              "      <td>0</td>\n",
              "      <td>0</td>\n",
              "      <td>0</td>\n",
              "      <td>0</td>\n",
              "      <td>0</td>\n",
              "    </tr>\n",
              "    <tr>\n",
              "      <th>2</th>\n",
              "      <td>tt0086465</td>\n",
              "      <td>['Comedy']</td>\n",
              "      <td>0</td>\n",
              "      <td>0</td>\n",
              "      <td>0</td>\n",
              "      <td>0</td>\n",
              "      <td>1</td>\n",
              "      <td>0</td>\n",
              "      <td>0</td>\n",
              "      <td>0</td>\n",
              "      <td>0</td>\n",
              "      <td>0</td>\n",
              "      <td>0</td>\n",
              "      <td>0</td>\n",
              "      <td>0</td>\n",
              "      <td>0</td>\n",
              "      <td>0</td>\n",
              "      <td>0</td>\n",
              "      <td>0</td>\n",
              "      <td>0</td>\n",
              "      <td>0</td>\n",
              "      <td>0</td>\n",
              "      <td>0</td>\n",
              "      <td>0</td>\n",
              "      <td>0</td>\n",
              "      <td>0</td>\n",
              "      <td>0</td>\n",
              "    </tr>\n",
              "    <tr>\n",
              "      <th>3</th>\n",
              "      <td>tt0086567</td>\n",
              "      <td>['Sci-Fi', 'Thriller']</td>\n",
              "      <td>0</td>\n",
              "      <td>0</td>\n",
              "      <td>0</td>\n",
              "      <td>0</td>\n",
              "      <td>0</td>\n",
              "      <td>0</td>\n",
              "      <td>0</td>\n",
              "      <td>0</td>\n",
              "      <td>0</td>\n",
              "      <td>0</td>\n",
              "      <td>0</td>\n",
              "      <td>0</td>\n",
              "      <td>0</td>\n",
              "      <td>0</td>\n",
              "      <td>0</td>\n",
              "      <td>0</td>\n",
              "      <td>0</td>\n",
              "      <td>0</td>\n",
              "      <td>0</td>\n",
              "      <td>1</td>\n",
              "      <td>0</td>\n",
              "      <td>0</td>\n",
              "      <td>1</td>\n",
              "      <td>0</td>\n",
              "      <td>0</td>\n",
              "    </tr>\n",
              "    <tr>\n",
              "      <th>4</th>\n",
              "      <td>tt0086034</td>\n",
              "      <td>['Action', 'Adventure', 'Thriller']</td>\n",
              "      <td>1</td>\n",
              "      <td>1</td>\n",
              "      <td>0</td>\n",
              "      <td>0</td>\n",
              "      <td>0</td>\n",
              "      <td>0</td>\n",
              "      <td>0</td>\n",
              "      <td>0</td>\n",
              "      <td>0</td>\n",
              "      <td>0</td>\n",
              "      <td>0</td>\n",
              "      <td>0</td>\n",
              "      <td>0</td>\n",
              "      <td>0</td>\n",
              "      <td>0</td>\n",
              "      <td>0</td>\n",
              "      <td>0</td>\n",
              "      <td>0</td>\n",
              "      <td>0</td>\n",
              "      <td>0</td>\n",
              "      <td>0</td>\n",
              "      <td>0</td>\n",
              "      <td>1</td>\n",
              "      <td>0</td>\n",
              "      <td>0</td>\n",
              "    </tr>\n",
              "  </tbody>\n",
              "</table>\n",
              "</div>"
            ],
            "text/plain": [
              "          Id                                Genre  ...  War  Western\n",
              "0  tt0086425                  ['Comedy', 'Drama']  ...    0        0\n",
              "1  tt0085549        ['Drama', 'Romance', 'Music']  ...    0        0\n",
              "2  tt0086465                           ['Comedy']  ...    0        0\n",
              "3  tt0086567               ['Sci-Fi', 'Thriller']  ...    0        0\n",
              "4  tt0086034  ['Action', 'Adventure', 'Thriller']  ...    0        0\n",
              "\n",
              "[5 rows x 27 columns]"
            ]
          },
          "metadata": {
            "tags": []
          },
          "execution_count": 14
        }
      ]
    },
    {
      "cell_type": "code",
      "metadata": {
        "id": "vwLIiUl7GLVs",
        "colab_type": "code",
        "outputId": "a3582df6-ea81-4c1b-ddc6-2af890881554",
        "colab": {
          "base_uri": "https://localhost:8080/",
          "height": 121
        }
      },
      "source": [
        "train.columns"
      ],
      "execution_count": 15,
      "outputs": [
        {
          "output_type": "execute_result",
          "data": {
            "text/plain": [
              "Index(['Id', 'Genre', 'Action', 'Adventure', 'Animation', 'Biography',\n",
              "       'Comedy', 'Crime', 'Documentary', 'Drama', 'Family', 'Fantasy',\n",
              "       'History', 'Horror', 'Music', 'Musical', 'Mystery', 'N/A', 'News',\n",
              "       'Reality-TV', 'Romance', 'Sci-Fi', 'Short', 'Sport', 'Thriller', 'War',\n",
              "       'Western'],\n",
              "      dtype='object')"
            ]
          },
          "metadata": {
            "tags": []
          },
          "execution_count": 15
        }
      ]
    },
    {
      "cell_type": "code",
      "metadata": {
        "id": "DwRzoyg8GPVI",
        "colab_type": "code",
        "outputId": "5514e2f1-450b-4b76-8f16-21a95483ab20",
        "colab": {
          "base_uri": "https://localhost:8080/",
          "height": 69
        }
      },
      "source": [
        "#do not execute\n",
        "#Download images from google drive\n",
        "pattern=re.compile('[a-zA-Z0-9]+[.]jpg')\n",
        "local_img_path=os.path.expanduser(os.getcwd()+'/Images')\n",
        "try:\n",
        "    os.makedirs(local_img_path)\n",
        "except: pass\n",
        "\n",
        "print(local_img_path)\n",
        "img_folder_link='https://drive.google.com/open?id=1zoWXcDzfjxeYbvOknbGU5WyM707yDGcP'\n",
        "temp,img_folder_id=img_folder_link.split('=')\n",
        "print(img_folder_id)\n",
        "#downloaded=drive.CreateFile({'id':img_folder_id})\n",
        "#downloaded.GetContentFile('Images')\n",
        "fileList=drive.ListFile({'q':\"'{}' in parents\".format(str(img_folder_id))}).GetList()\n",
        "for f in tqdm(fileList):\n",
        "    #print(f['title'])\n",
        "    if bool(re.match(pattern,f['title'])):\n",
        "        try:\n",
        "            fname=os.path.join(local_img_path,f['title'])\n",
        "            downloaded=drive.CreateFile({'id':f['id']})\n",
        "            downloaded.GetContentFile(fname)\n",
        "        except: pass"
      ],
      "execution_count": 0,
      "outputs": [
        {
          "output_type": "stream",
          "text": [
            "/content/Images\n",
            "1zoWXcDzfjxeYbvOknbGU5WyM707yDGcP\n"
          ],
          "name": "stdout"
        },
        {
          "output_type": "stream",
          "text": [
            "100%|██████████| 7876/7876 [1:00:24<00:00,  2.37it/s]\n"
          ],
          "name": "stderr"
        }
      ]
    },
    {
      "cell_type": "code",
      "metadata": {
        "id": "i-8-xFe36iDM",
        "colab_type": "code",
        "outputId": "68879580-a1d5-46ab-a6f1-613975197e48",
        "colab": {
          "base_uri": "https://localhost:8080/",
          "height": 124
        }
      },
      "source": [
        ""
      ],
      "execution_count": 0,
      "outputs": [
        {
          "output_type": "stream",
          "text": [
            "Go to this URL in a browser: https://accounts.google.com/o/oauth2/auth?client_id=947318989803-6bn6qk8qdgf4n4g3pfee6491hc0brc4i.apps.googleusercontent.com&redirect_uri=urn%3Aietf%3Awg%3Aoauth%3A2.0%3Aoob&scope=email%20https%3A%2F%2Fwww.googleapis.com%2Fauth%2Fdocs.test%20https%3A%2F%2Fwww.googleapis.com%2Fauth%2Fdrive%20https%3A%2F%2Fwww.googleapis.com%2Fauth%2Fdrive.photos.readonly%20https%3A%2F%2Fwww.googleapis.com%2Fauth%2Fpeopleapi.readonly&response_type=code\n",
            "\n",
            "Enter your authorization code:\n",
            "··········\n",
            "Mounted at /content/drive\n"
          ],
          "name": "stdout"
        }
      ]
    },
    {
      "cell_type": "code",
      "metadata": {
        "id": "cdZ8zkmYGzs8",
        "colab_type": "code",
        "outputId": "5b2de1c1-8c17-49ed-9287-c25de09b7d06",
        "colab": {
          "base_uri": "https://localhost:8080/",
          "height": 35
        }
      },
      "source": [
        "#do not execute\n",
        "import re\n",
        "pattern=re.compile('[a-zA-Z0-9]+[.]jpg')\n",
        "print(bool(re.match(pattern,'23sdf3dsfds45.jpg')))"
      ],
      "execution_count": 0,
      "outputs": [
        {
          "output_type": "stream",
          "text": [
            "True\n"
          ],
          "name": "stdout"
        }
      ]
    },
    {
      "cell_type": "code",
      "metadata": {
        "id": "huovetjMNPz1",
        "colab_type": "code",
        "colab": {}
      },
      "source": [
        "train_image=[]\n",
        "def load_data(start,end,pos):\n",
        "    print('in load data:',start,end)\n",
        "    #i=i[0]\n",
        "    temp=[]\n",
        "    for i in range(start,end+1):\n",
        "        img=image.load_img('/content/drive/My Drive/Datsets/Multi_label_image_classification/Images/'+train['Id'][i]+'.jpg',target_size=(400,400,3))\n",
        "        img=image.img_to_array(img)\n",
        "        img=img/255\n",
        "        temp.append(img)\n",
        "    with open('/content/drive/My Drive/Datsets/Multi_label_image_classification/train_image_'+str(pos)+'.bkp','wb') as f:\n",
        "        pickle.dump(temp,f)\n",
        "    #train_image.append(temp)\n",
        "    "
      ],
      "execution_count": 0,
      "outputs": []
    },
    {
      "cell_type": "code",
      "metadata": {
        "id": "XwJcGjeKAQk5",
        "colab_type": "code",
        "outputId": "71b16314-a503-49e2-f6cd-b3414b97f6e7",
        "colab": {
          "base_uri": "https://localhost:8080/",
          "height": 69
        }
      },
      "source": [
        "#preprocessing the data\n",
        "print(train.shape)\n",
        "X=[]\n",
        "try:\n",
        "    with open('/content/drive/My Drive/Datsets/Multi_label_image_classification/trainX.bkp',rb) as f:\n",
        "        X=pickle.load(f)\n",
        "except: pass\n",
        "pool=mp.Pool(4)\n",
        "print('X:',X)\n",
        "args_list=[]\n",
        "threads_list=[]\n",
        "if len(X)==0:\n",
        "    start=0\n",
        "    end= -1   #train.shape[0]//4\n",
        "    a=[]\n",
        "    for i in range(4):   #cpu_count\n",
        "        start=end+1    \n",
        "        end=start+(train.shape[0]//4)\n",
        "        if i==3:\n",
        "            end=train.shape[0]-1\n",
        "        temp_arg=[start,end]\n",
        "        args_list.append(temp_arg)\n",
        "print(args_list)\n",
        "    "
      ],
      "execution_count": 17,
      "outputs": [
        {
          "output_type": "stream",
          "text": [
            "(7254, 27)\n",
            "X: []\n",
            "[[0, 1813], [1814, 3627], [3628, 5441], [5442, 7253]]\n"
          ],
          "name": "stdout"
        }
      ]
    },
    {
      "cell_type": "code",
      "metadata": {
        "id": "G-o_1KXvyJom",
        "colab_type": "code",
        "outputId": "5284d050-b076-4713-b04d-a76eddf53c14",
        "colab": {
          "base_uri": "https://localhost:8080/",
          "height": 35
        }
      },
      "source": [
        "backup_exists=False\n",
        "for i in range(len(args_list)):\n",
        "    try:\n",
        "        f=open('/content/drive/My Drive/Datsets/Multi_label_image_classification/train_image_'+str(i)+'.bkp','rb')\n",
        "        backup_exists=True\n",
        "    except:\n",
        "        backup_exists=False\n",
        "        break\n",
        "\n",
        "print(backup_exists)"
      ],
      "execution_count": 18,
      "outputs": [
        {
          "output_type": "stream",
          "text": [
            "True\n"
          ],
          "name": "stdout"
        }
      ]
    },
    {
      "cell_type": "code",
      "metadata": {
        "id": "pPXr7XvMyCPM",
        "colab_type": "code",
        "colab": {}
      },
      "source": [
        "if len(X)==0 and backup_exists==False:\n",
        "    for i,val in tqdm(enumerate(args_list)):\n",
        "        print('i:',i,val)        \n",
        "        #th_temp=th.Thread(target=load_data,args=(val[0],val[1],i),)\n",
        "        #threads_list.append(th_temp)\n",
        "        load_data(val[0],val[1],i)\n",
        "\n",
        "    #for th in threads_list:\n",
        "    #    th.start()\n",
        "\n",
        "    #for th in threads_list:\n",
        "    #    th.join()\n",
        "    \n",
        "    #train_image=pool.map(load_data,(val for val in args_list))\n",
        "\n",
        "    #pool.close()\n",
        "    #pool.join()\n",
        "    #train_image=[r.get() for r in result_objects]\n",
        "    print('done parallel...')\n",
        "    "
      ],
      "execution_count": 0,
      "outputs": []
    },
    {
      "cell_type": "code",
      "metadata": {
        "id": "JkItMPdkZEfN",
        "colab_type": "code",
        "outputId": "6b39748c-5459-4c6b-92be-54d566dc8542",
        "colab": {
          "base_uri": "https://localhost:8080/",
          "height": 35
        }
      },
      "source": [
        "#do not execute\n",
        "train_image = []\n",
        "for i in tqdm(range(train.shape[0])):\n",
        "    img = image.load_img('/content/Images/'+train['Id'][i]+'.jpg',target_size=(400,400,3))\n",
        "    img = image.img_to_array(img)\n",
        "    img = img/255\n",
        "    train_image.append(img)\n",
        "X = np.array(train_image)\n",
        "\n",
        "#X=np.array(train_image)"
      ],
      "execution_count": 0,
      "outputs": [
        {
          "output_type": "stream",
          "text": [
            "100%|██████████| 7254/7254 [00:48<00:00, 149.76it/s]\n"
          ],
          "name": "stderr"
        }
      ]
    },
    {
      "cell_type": "code",
      "metadata": {
        "id": "SOGiKXdhBtiv",
        "colab_type": "code",
        "colab": {}
      },
      "source": [
        "#do not execute\n",
        "with open('/content/drive/My Drive/Datsets/Multi_label_image_classification/trainX.bkp','wb') as f:\n",
        "    pickle.dump(X,f)"
      ],
      "execution_count": 0,
      "outputs": []
    },
    {
      "cell_type": "code",
      "metadata": {
        "id": "tdfBQBaoKW6x",
        "colab_type": "code",
        "outputId": "32888a51-fc7d-4a49-a472-b0e321dd60ff",
        "colab": {
          "base_uri": "https://localhost:8080/",
          "height": 35
        }
      },
      "source": [
        "#create the Y\n",
        "y=np.array(train.drop(['Id','Genre'],axis=1))\n",
        "print(y.shape)"
      ],
      "execution_count": 20,
      "outputs": [
        {
          "output_type": "stream",
          "text": [
            "(7254, 25)\n"
          ],
          "name": "stdout"
        }
      ]
    },
    {
      "cell_type": "code",
      "metadata": {
        "id": "CqOyybNGLjbP",
        "colab_type": "code",
        "outputId": "b62533aa-0cac-43ef-efad-c7f57d7345df",
        "colab": {
          "base_uri": "https://localhost:8080/",
          "height": 263
        }
      },
      "source": [
        "#setup the model\n",
        "if not trained_model_exists:\n",
        "    model=Sequential()\n",
        "    model.add(Conv2D(filters=16,kernel_size=(5,5),activation='relu',input_shape=(400,400,3)))\n",
        "    model.add(MaxPool2D(pool_size=(2,2)))\n",
        "    model.add(Dropout(0.25))\n",
        "    model.add(Conv2D(filters=32,kernel_size=(5,5),activation='relu'))\n",
        "    model.add(MaxPool2D(pool_size=(2,2)))\n",
        "    model.add(Dropout(0.25))\n",
        "    model.add(Conv2D(filters=64,kernel_size=(5,5),activation='relu'))\n",
        "    model.add(MaxPool2D(pool_size=(2,2)))\n",
        "    model.add(Dropout(0.25))\n",
        "    model.add(Conv2D(filters=64,kernel_size=(5,5),activation='relu'))\n",
        "    model.add(MaxPool2D(pool_size=(2,2)))\n",
        "    model.add(Dropout(0.25))\n",
        "    model.add(Flatten())\n",
        "    model.add(Dense(128,activation='relu'))\n",
        "    model.add(Dropout(0.5))\n",
        "    model.add(Dense(64,activation='relu'))\n",
        "    model.add(Dropout(0.5))\n",
        "    model.add(Dense(25,activation='sigmoid'))\n",
        "else:\n",
        "    with open('/content/drive/My Drive/Datsets/Multi_label_image_classification/trained_model.bkp','rb') as f:\n",
        "        temp=pickle.Unpickler(f)\n",
        "        model=temp.load()"
      ],
      "execution_count": 21,
      "outputs": [
        {
          "output_type": "stream",
          "text": [
            "WARNING:tensorflow:From /usr/local/lib/python3.6/dist-packages/keras/backend/tensorflow_backend.py:66: The name tf.get_default_graph is deprecated. Please use tf.compat.v1.get_default_graph instead.\n",
            "\n",
            "WARNING:tensorflow:From /usr/local/lib/python3.6/dist-packages/keras/backend/tensorflow_backend.py:541: The name tf.placeholder is deprecated. Please use tf.compat.v1.placeholder instead.\n",
            "\n",
            "WARNING:tensorflow:From /usr/local/lib/python3.6/dist-packages/keras/backend/tensorflow_backend.py:4432: The name tf.random_uniform is deprecated. Please use tf.random.uniform instead.\n",
            "\n",
            "WARNING:tensorflow:From /usr/local/lib/python3.6/dist-packages/keras/backend/tensorflow_backend.py:4267: The name tf.nn.max_pool is deprecated. Please use tf.nn.max_pool2d instead.\n",
            "\n",
            "WARNING:tensorflow:From /usr/local/lib/python3.6/dist-packages/keras/backend/tensorflow_backend.py:148: The name tf.placeholder_with_default is deprecated. Please use tf.compat.v1.placeholder_with_default instead.\n",
            "\n",
            "WARNING:tensorflow:From /usr/local/lib/python3.6/dist-packages/keras/backend/tensorflow_backend.py:3733: calling dropout (from tensorflow.python.ops.nn_ops) with keep_prob is deprecated and will be removed in a future version.\n",
            "Instructions for updating:\n",
            "Please use `rate` instead of `keep_prob`. Rate should be set to `rate = 1 - keep_prob`.\n"
          ],
          "name": "stdout"
        }
      ]
    },
    {
      "cell_type": "code",
      "metadata": {
        "id": "5aUS5w9cLnwN",
        "colab_type": "code",
        "outputId": "77b262d6-cdfc-4366-8ee8-622589bfd46f",
        "colab": {
          "base_uri": "https://localhost:8080/",
          "height": 780
        }
      },
      "source": [
        "model.summary()"
      ],
      "execution_count": 22,
      "outputs": [
        {
          "output_type": "stream",
          "text": [
            "Model: \"sequential_1\"\n",
            "_________________________________________________________________\n",
            "Layer (type)                 Output Shape              Param #   \n",
            "=================================================================\n",
            "conv2d_1 (Conv2D)            (None, 396, 396, 16)      1216      \n",
            "_________________________________________________________________\n",
            "max_pooling2d_1 (MaxPooling2 (None, 198, 198, 16)      0         \n",
            "_________________________________________________________________\n",
            "dropout_1 (Dropout)          (None, 198, 198, 16)      0         \n",
            "_________________________________________________________________\n",
            "conv2d_2 (Conv2D)            (None, 194, 194, 32)      12832     \n",
            "_________________________________________________________________\n",
            "max_pooling2d_2 (MaxPooling2 (None, 97, 97, 32)        0         \n",
            "_________________________________________________________________\n",
            "dropout_2 (Dropout)          (None, 97, 97, 32)        0         \n",
            "_________________________________________________________________\n",
            "conv2d_3 (Conv2D)            (None, 93, 93, 64)        51264     \n",
            "_________________________________________________________________\n",
            "max_pooling2d_3 (MaxPooling2 (None, 46, 46, 64)        0         \n",
            "_________________________________________________________________\n",
            "dropout_3 (Dropout)          (None, 46, 46, 64)        0         \n",
            "_________________________________________________________________\n",
            "conv2d_4 (Conv2D)            (None, 42, 42, 64)        102464    \n",
            "_________________________________________________________________\n",
            "max_pooling2d_4 (MaxPooling2 (None, 21, 21, 64)        0         \n",
            "_________________________________________________________________\n",
            "dropout_4 (Dropout)          (None, 21, 21, 64)        0         \n",
            "_________________________________________________________________\n",
            "flatten_1 (Flatten)          (None, 28224)             0         \n",
            "_________________________________________________________________\n",
            "dense_1 (Dense)              (None, 128)               3612800   \n",
            "_________________________________________________________________\n",
            "dropout_5 (Dropout)          (None, 128)               0         \n",
            "_________________________________________________________________\n",
            "dense_2 (Dense)              (None, 64)                8256      \n",
            "_________________________________________________________________\n",
            "dropout_6 (Dropout)          (None, 64)                0         \n",
            "_________________________________________________________________\n",
            "dense_3 (Dense)              (None, 25)                1625      \n",
            "=================================================================\n",
            "Total params: 3,790,457\n",
            "Trainable params: 3,790,457\n",
            "Non-trainable params: 0\n",
            "_________________________________________________________________\n"
          ],
          "name": "stdout"
        }
      ]
    },
    {
      "cell_type": "code",
      "metadata": {
        "id": "d566iVGULzH5",
        "colab_type": "code",
        "outputId": "9934a4a0-562b-4251-f3a7-e7ecb3341158",
        "colab": {
          "base_uri": "https://localhost:8080/",
          "height": 159
        }
      },
      "source": [
        "if not trained_model_exists:\n",
        "    model.compile(optimizer='adam',loss='binary_crossentropy',metrics=['accuracy'])"
      ],
      "execution_count": 23,
      "outputs": [
        {
          "output_type": "stream",
          "text": [
            "WARNING:tensorflow:From /usr/local/lib/python3.6/dist-packages/keras/optimizers.py:793: The name tf.train.Optimizer is deprecated. Please use tf.compat.v1.train.Optimizer instead.\n",
            "\n",
            "WARNING:tensorflow:From /usr/local/lib/python3.6/dist-packages/keras/backend/tensorflow_backend.py:3657: The name tf.log is deprecated. Please use tf.math.log instead.\n",
            "\n",
            "WARNING:tensorflow:From /usr/local/lib/python3.6/dist-packages/tensorflow_core/python/ops/nn_impl.py:183: where (from tensorflow.python.ops.array_ops) is deprecated and will be removed in a future version.\n",
            "Instructions for updating:\n",
            "Use tf.where in 2.0, which has the same broadcast rule as np.where\n"
          ],
          "name": "stdout"
        }
      ]
    },
    {
      "cell_type": "code",
      "metadata": {
        "id": "W9Rg9nqHiBOk",
        "colab_type": "code",
        "outputId": "505991c4-9175-4902-c55a-14843c763a63",
        "colab": {
          "base_uri": "https://localhost:8080/",
          "height": 1000
        }
      },
      "source": [
        "X=[]\n",
        "if not trained_model_exists:\n",
        "    for i,val in enumerate(args_list):\n",
        "        with open('/content/drive/My Drive/Datsets/Multi_label_image_classification/train_image_'+str(i)+'.bkp','rb') as f:\n",
        "            train_image=pickle.load(f)\n",
        "            X=np.array(train_image)\n",
        "            y_temp=y[val[0]:val[1]+1]\n",
        "            X_train,X_test,y_train,y_test=train_test_split(X,y_temp,random_state=42,test_size=0.1)\n",
        "    #X=[]\n",
        "            model.fit(X_train,y_train,epochs=10,validation_data=(X_test,y_test),batch_size=64)\n",
        "\n",
        "    with open('/content/drive/My Drive/Datsets/Multi_label_image_classification/trained_model.bkp','wb') as f:\n",
        "        pickle.dump(model,f)"
      ],
      "execution_count": 24,
      "outputs": [
        {
          "output_type": "stream",
          "text": [
            "WARNING:tensorflow:From /usr/local/lib/python3.6/dist-packages/keras/backend/tensorflow_backend.py:1033: The name tf.assign_add is deprecated. Please use tf.compat.v1.assign_add instead.\n",
            "\n",
            "WARNING:tensorflow:From /usr/local/lib/python3.6/dist-packages/keras/backend/tensorflow_backend.py:1020: The name tf.assign is deprecated. Please use tf.compat.v1.assign instead.\n",
            "\n",
            "WARNING:tensorflow:From /usr/local/lib/python3.6/dist-packages/keras/backend/tensorflow_backend.py:3005: The name tf.Session is deprecated. Please use tf.compat.v1.Session instead.\n",
            "\n",
            "Train on 1632 samples, validate on 182 samples\n",
            "Epoch 1/10\n",
            "WARNING:tensorflow:From /usr/local/lib/python3.6/dist-packages/keras/backend/tensorflow_backend.py:190: The name tf.get_default_session is deprecated. Please use tf.compat.v1.get_default_session instead.\n",
            "\n",
            "WARNING:tensorflow:From /usr/local/lib/python3.6/dist-packages/keras/backend/tensorflow_backend.py:197: The name tf.ConfigProto is deprecated. Please use tf.compat.v1.ConfigProto instead.\n",
            "\n",
            "WARNING:tensorflow:From /usr/local/lib/python3.6/dist-packages/keras/backend/tensorflow_backend.py:207: The name tf.global_variables is deprecated. Please use tf.compat.v1.global_variables instead.\n",
            "\n",
            "WARNING:tensorflow:From /usr/local/lib/python3.6/dist-packages/keras/backend/tensorflow_backend.py:216: The name tf.is_variable_initialized is deprecated. Please use tf.compat.v1.is_variable_initialized instead.\n",
            "\n",
            "WARNING:tensorflow:From /usr/local/lib/python3.6/dist-packages/keras/backend/tensorflow_backend.py:223: The name tf.variables_initializer is deprecated. Please use tf.compat.v1.variables_initializer instead.\n",
            "\n",
            "1632/1632 [==============================] - 291s 178ms/step - loss: 0.5779 - acc: 0.7030 - val_loss: 0.4949 - val_acc: 0.9110\n",
            "Epoch 2/10\n",
            "1632/1632 [==============================] - 285s 175ms/step - loss: 0.3918 - acc: 0.8422 - val_loss: 0.3333 - val_acc: 0.9075\n",
            "Epoch 3/10\n",
            "1632/1632 [==============================] - 284s 174ms/step - loss: 0.3219 - acc: 0.8832 - val_loss: 0.3016 - val_acc: 0.9075\n",
            "Epoch 4/10\n",
            "1632/1632 [==============================] - 284s 174ms/step - loss: 0.3003 - acc: 0.8930 - val_loss: 0.2558 - val_acc: 0.9075\n",
            "Epoch 5/10\n",
            "1632/1632 [==============================] - 289s 177ms/step - loss: 0.2863 - acc: 0.8977 - val_loss: 0.2532 - val_acc: 0.9075\n",
            "Epoch 6/10\n",
            "1632/1632 [==============================] - 296s 182ms/step - loss: 0.2796 - acc: 0.9001 - val_loss: 0.2514 - val_acc: 0.9075\n",
            "Epoch 7/10\n",
            "1632/1632 [==============================] - 297s 182ms/step - loss: 0.2734 - acc: 0.9006 - val_loss: 0.2454 - val_acc: 0.9075\n",
            "Epoch 8/10\n",
            "1632/1632 [==============================] - 294s 180ms/step - loss: 0.2667 - acc: 0.9016 - val_loss: 0.2355 - val_acc: 0.9110\n",
            "Epoch 9/10\n",
            "1632/1632 [==============================] - 284s 174ms/step - loss: 0.2642 - acc: 0.9031 - val_loss: 0.2385 - val_acc: 0.9075\n",
            "Epoch 10/10\n",
            "1632/1632 [==============================] - 284s 174ms/step - loss: 0.2629 - acc: 0.9015 - val_loss: 0.2390 - val_acc: 0.9110\n",
            "Train on 1632 samples, validate on 182 samples\n",
            "Epoch 1/10\n",
            "1632/1632 [==============================] - 279s 171ms/step - loss: 0.2623 - acc: 0.9047 - val_loss: 0.2395 - val_acc: 0.9079\n",
            "Epoch 2/10\n",
            "1632/1632 [==============================] - 279s 171ms/step - loss: 0.2605 - acc: 0.9051 - val_loss: 0.2363 - val_acc: 0.9079\n",
            "Epoch 3/10\n",
            "1632/1632 [==============================] - 285s 175ms/step - loss: 0.2588 - acc: 0.9049 - val_loss: 0.2354 - val_acc: 0.9079\n",
            "Epoch 4/10\n",
            "1632/1632 [==============================] - 280s 172ms/step - loss: 0.2576 - acc: 0.9042 - val_loss: 0.2395 - val_acc: 0.9079\n",
            "Epoch 5/10\n",
            "1632/1632 [==============================] - 279s 171ms/step - loss: 0.2553 - acc: 0.9067 - val_loss: 0.2402 - val_acc: 0.9079\n",
            "Epoch 6/10\n",
            "1632/1632 [==============================] - 279s 171ms/step - loss: 0.2542 - acc: 0.9060 - val_loss: 0.2410 - val_acc: 0.9079\n",
            "Epoch 7/10\n",
            "1632/1632 [==============================] - 284s 174ms/step - loss: 0.2534 - acc: 0.9066 - val_loss: 0.2428 - val_acc: 0.9079\n",
            "Epoch 8/10\n",
            "1632/1632 [==============================] - 276s 169ms/step - loss: 0.2535 - acc: 0.9053 - val_loss: 0.2372 - val_acc: 0.9079\n",
            "Epoch 9/10\n",
            "1632/1632 [==============================] - 276s 169ms/step - loss: 0.2534 - acc: 0.9082 - val_loss: 0.2376 - val_acc: 0.9079\n",
            "Epoch 10/10\n",
            "1632/1632 [==============================] - 276s 169ms/step - loss: 0.2533 - acc: 0.9065 - val_loss: 0.2419 - val_acc: 0.9079\n",
            "Train on 1632 samples, validate on 182 samples\n",
            "Epoch 1/10\n",
            "1632/1632 [==============================] - 281s 172ms/step - loss: 0.2620 - acc: 0.9055 - val_loss: 0.2606 - val_acc: 0.9040\n",
            "Epoch 2/10\n",
            "1632/1632 [==============================] - 281s 172ms/step - loss: 0.2602 - acc: 0.9073 - val_loss: 0.2574 - val_acc: 0.9066\n",
            "Epoch 3/10\n",
            "1632/1632 [==============================] - 285s 175ms/step - loss: 0.2576 - acc: 0.9072 - val_loss: 0.2587 - val_acc: 0.9066\n",
            "Epoch 4/10\n",
            "1632/1632 [==============================] - 282s 173ms/step - loss: 0.2588 - acc: 0.9062 - val_loss: 0.2559 - val_acc: 0.9066\n",
            "Epoch 5/10\n",
            "1632/1632 [==============================] - 281s 172ms/step - loss: 0.2566 - acc: 0.9064 - val_loss: 0.2566 - val_acc: 0.9066\n",
            "Epoch 6/10\n",
            "1632/1632 [==============================] - 283s 173ms/step - loss: 0.2542 - acc: 0.9082 - val_loss: 0.2529 - val_acc: 0.9066\n",
            "Epoch 7/10\n",
            "1632/1632 [==============================] - 281s 172ms/step - loss: 0.2535 - acc: 0.9076 - val_loss: 0.2543 - val_acc: 0.9066\n",
            "Epoch 8/10\n",
            "1632/1632 [==============================] - 281s 172ms/step - loss: 0.2533 - acc: 0.9073 - val_loss: 0.2520 - val_acc: 0.9062\n",
            "Epoch 9/10\n",
            "1632/1632 [==============================] - 281s 172ms/step - loss: 0.2536 - acc: 0.9067 - val_loss: 0.2571 - val_acc: 0.9066\n",
            "Epoch 10/10\n",
            "1632/1632 [==============================] - 282s 173ms/step - loss: 0.2508 - acc: 0.9080 - val_loss: 0.2527 - val_acc: 0.9090\n",
            "Train on 1630 samples, validate on 182 samples\n",
            "Epoch 1/10\n",
            "1630/1630 [==============================] - 283s 174ms/step - loss: 0.2539 - acc: 0.9103 - val_loss: 0.2492 - val_acc: 0.9075\n",
            "Epoch 2/10\n",
            "1630/1630 [==============================] - 285s 175ms/step - loss: 0.2484 - acc: 0.9112 - val_loss: 0.2462 - val_acc: 0.9075\n",
            "Epoch 3/10\n",
            "1630/1630 [==============================] - 281s 173ms/step - loss: 0.2496 - acc: 0.9115 - val_loss: 0.2503 - val_acc: 0.9075\n",
            "Epoch 4/10\n",
            "1630/1630 [==============================] - 283s 173ms/step - loss: 0.2484 - acc: 0.9106 - val_loss: 0.2526 - val_acc: 0.9075\n",
            "Epoch 5/10\n",
            "1630/1630 [==============================] - 287s 176ms/step - loss: 0.2470 - acc: 0.9111 - val_loss: 0.2456 - val_acc: 0.9075\n",
            "Epoch 6/10\n",
            "1630/1630 [==============================] - 283s 174ms/step - loss: 0.2455 - acc: 0.9113 - val_loss: 0.2478 - val_acc: 0.9075\n",
            "Epoch 7/10\n",
            "1630/1630 [==============================] - 282s 173ms/step - loss: 0.2463 - acc: 0.9111 - val_loss: 0.2480 - val_acc: 0.9075\n",
            "Epoch 8/10\n",
            "1630/1630 [==============================] - 284s 174ms/step - loss: 0.2452 - acc: 0.9118 - val_loss: 0.2455 - val_acc: 0.9075\n",
            "Epoch 9/10\n",
            "1630/1630 [==============================] - 285s 175ms/step - loss: 0.2458 - acc: 0.9111 - val_loss: 0.2449 - val_acc: 0.9075\n",
            "Epoch 10/10\n",
            "1630/1630 [==============================] - 286s 175ms/step - loss: 0.2438 - acc: 0.9119 - val_loss: 0.2470 - val_acc: 0.9075\n"
          ],
          "name": "stdout"
        }
      ]
    },
    {
      "cell_type": "code",
      "metadata": {
        "id": "xI9AwDM69fb6",
        "colab_type": "code",
        "colab": {}
      },
      "source": [
        "X=[]"
      ],
      "execution_count": 0,
      "outputs": []
    },
    {
      "cell_type": "code",
      "metadata": {
        "id": "qaR3nD5-iGHd",
        "colab_type": "code",
        "outputId": "864e4a3c-7c93-4e11-fdd5-70741b85f7dc",
        "colab": {
          "base_uri": "https://localhost:8080/",
          "height": 35
        }
      },
      "source": [
        "X.extend(np.array([1,2,3]))\n",
        "X"
      ],
      "execution_count": 0,
      "outputs": [
        {
          "output_type": "execute_result",
          "data": {
            "text/plain": [
              "[1, 2, 3]"
            ]
          },
          "metadata": {
            "tags": []
          },
          "execution_count": 42
        }
      ]
    },
    {
      "cell_type": "code",
      "metadata": {
        "id": "A4OhV5T_j-F4",
        "colab_type": "code",
        "outputId": "6864e625-58c1-409e-a742-152b5c3d3930",
        "colab": {
          "base_uri": "https://localhost:8080/",
          "height": 35
        }
      },
      "source": [
        "X.extend(np.array([1,2,3]))\n",
        "X"
      ],
      "execution_count": 0,
      "outputs": [
        {
          "output_type": "execute_result",
          "data": {
            "text/plain": [
              "[1, 2, 3, 1, 2, 3]"
            ]
          },
          "metadata": {
            "tags": []
          },
          "execution_count": 43
        }
      ]
    },
    {
      "cell_type": "code",
      "metadata": {
        "id": "wfdTE1YAkIk1",
        "colab_type": "code",
        "colab": {}
      },
      "source": [
        "train_image=[]"
      ],
      "execution_count": 0,
      "outputs": []
    },
    {
      "cell_type": "code",
      "metadata": {
        "id": "h6BL5BHJySQF",
        "colab_type": "code",
        "colab": {}
      },
      "source": [
        ""
      ],
      "execution_count": 0,
      "outputs": []
    }
  ]
}