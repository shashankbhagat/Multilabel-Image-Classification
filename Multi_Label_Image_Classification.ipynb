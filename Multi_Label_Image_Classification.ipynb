{
  "nbformat": 4,
  "nbformat_minor": 0,
  "metadata": {
    "colab": {
      "name": "Multi-Label Image Classification.ipynb",
      "provenance": [],
      "machine_shape": "hm",
      "include_colab_link": true
    },
    "kernelspec": {
      "name": "python3",
      "display_name": "Python 3"
    }
  },
  "cells": [
    {
      "cell_type": "markdown",
      "metadata": {
        "id": "view-in-github",
        "colab_type": "text"
      },
      "source": [
        "<a href=\"https://colab.research.google.com/github/shashankbhagat/Multilabel-Image-Classification/blob/master/Multi_Label_Image_Classification.ipynb\" target=\"_parent\"><img src=\"https://colab.research.google.com/assets/colab-badge.svg\" alt=\"Open In Colab\"/></a>"
      ]
    },
    {
      "cell_type": "code",
      "metadata": {
        "id": "Y6e_X9l8MfyU",
        "colab_type": "code",
        "colab": {}
      },
      "source": [
        "!pip install -U -q PyDrive"
      ],
      "execution_count": 0,
      "outputs": []
    },
    {
      "cell_type": "code",
      "metadata": {
        "id": "uAHiLdqk_XNd",
        "colab_type": "code",
        "colab": {}
      },
      "source": [
        ""
      ],
      "execution_count": 0,
      "outputs": []
    },
    {
      "cell_type": "code",
      "metadata": {
        "id": "0z7p4vUO-Fvq",
        "colab_type": "code",
        "colab": {}
      },
      "source": [
        "!unzip -q '/content/drive/My Drive/Datsets/Multi_label_image_classification/Images.zip'"
      ],
      "execution_count": 0,
      "outputs": []
    },
    {
      "cell_type": "code",
      "metadata": {
        "id": "O3ufz081MsPw",
        "colab_type": "code",
        "colab": {}
      },
      "source": [
        "from pydrive.auth import GoogleAuth\n",
        "from pydrive.drive import GoogleDrive\n",
        "from google.colab import auth\n",
        "from oauth2client.client import GoogleCredentials\n",
        "# Authenticate and create the PyDrive client.\n",
        "auth.authenticate_user()\n",
        "gauth = GoogleAuth()\n",
        "gauth.credentials = GoogleCredentials.get_application_default()\n",
        "drive = GoogleDrive(gauth)"
      ],
      "execution_count": 0,
      "outputs": []
    },
    {
      "cell_type": "code",
      "metadata": {
        "id": "tXNYKYBu70Ea",
        "colab_type": "code",
        "outputId": "41c1b117-63f6-4811-8286-e700b1f2e85d",
        "colab": {
          "base_uri": "https://localhost:8080/",
          "height": 124
        }
      },
      "source": [
        "from google.colab import drive\n",
        "drive.mount('/content/drive')"
      ],
      "execution_count": 2,
      "outputs": [
        {
          "output_type": "stream",
          "text": [
            "Go to this URL in a browser: https://accounts.google.com/o/oauth2/auth?client_id=947318989803-6bn6qk8qdgf4n4g3pfee6491hc0brc4i.apps.googleusercontent.com&redirect_uri=urn%3Aietf%3Awg%3Aoauth%3A2.0%3Aoob&scope=email%20https%3A%2F%2Fwww.googleapis.com%2Fauth%2Fdocs.test%20https%3A%2F%2Fwww.googleapis.com%2Fauth%2Fdrive%20https%3A%2F%2Fwww.googleapis.com%2Fauth%2Fdrive.photos.readonly%20https%3A%2F%2Fwww.googleapis.com%2Fauth%2Fpeopleapi.readonly&response_type=code\n",
            "\n",
            "Enter your authorization code:\n",
            "··········\n",
            "Mounted at /content/drive\n"
          ],
          "name": "stdout"
        }
      ]
    },
    {
      "cell_type": "code",
      "metadata": {
        "id": "KVmJJFSV7kiw",
        "colab_type": "code",
        "colab": {}
      },
      "source": [
        "import keras\n",
        "from keras.models import Sequential\n",
        "from keras.layers import Dense, Dropout,Flatten\n",
        "from keras.layers import Conv2D, MaxPool2D\n",
        "from keras.utils import to_categorical\n",
        "from keras.preprocessing import image\n",
        "import numpy as np\n",
        "import pandas as pd\n",
        "import matplotlib.pyplot as plt\n",
        "from sklearn.model_selection import train_test_split\n",
        "from tqdm import tqdm\n",
        "import os\n",
        "import re\n",
        "import pickle\n",
        "import multiprocessing as mp\n",
        "import threading as th\n",
        "%matplotlib inline"
      ],
      "execution_count": 0,
      "outputs": []
    },
    {
      "cell_type": "code",
      "metadata": {
        "id": "B13r8DHx8a8k",
        "colab_type": "code",
        "colab": {}
      },
      "source": [
        "#Download csv from Google Drive\n",
        "csv_link='https://drive.google.com/open?id=1fHX_qjo6zMZZyLHVLpdxtYnG528tU_U4'\n",
        "temp, csv_id=csv_link.split('=')\n",
        "downloaded=drive.CreateFile({'id':csv_id})\n",
        "downloaded.GetContentFile('train.csv')\n"
      ],
      "execution_count": 0,
      "outputs": []
    },
    {
      "cell_type": "code",
      "metadata": {
        "id": "covnKZgPACIU",
        "colab_type": "code",
        "outputId": "4fcddb51-5441-4e19-e528-5f0966a4d383",
        "colab": {
          "base_uri": "https://localhost:8080/",
          "height": 343
        }
      },
      "source": [
        "train=pd.read_csv('/content/drive/My Drive/Datsets/Multi_label_image_classification/train.csv')\n",
        "train.head()"
      ],
      "execution_count": 6,
      "outputs": [
        {
          "output_type": "execute_result",
          "data": {
            "text/html": [
              "<div>\n",
              "<style scoped>\n",
              "    .dataframe tbody tr th:only-of-type {\n",
              "        vertical-align: middle;\n",
              "    }\n",
              "\n",
              "    .dataframe tbody tr th {\n",
              "        vertical-align: top;\n",
              "    }\n",
              "\n",
              "    .dataframe thead th {\n",
              "        text-align: right;\n",
              "    }\n",
              "</style>\n",
              "<table border=\"1\" class=\"dataframe\">\n",
              "  <thead>\n",
              "    <tr style=\"text-align: right;\">\n",
              "      <th></th>\n",
              "      <th>Id</th>\n",
              "      <th>Genre</th>\n",
              "      <th>Action</th>\n",
              "      <th>Adventure</th>\n",
              "      <th>Animation</th>\n",
              "      <th>Biography</th>\n",
              "      <th>Comedy</th>\n",
              "      <th>Crime</th>\n",
              "      <th>Documentary</th>\n",
              "      <th>Drama</th>\n",
              "      <th>Family</th>\n",
              "      <th>Fantasy</th>\n",
              "      <th>History</th>\n",
              "      <th>Horror</th>\n",
              "      <th>Music</th>\n",
              "      <th>Musical</th>\n",
              "      <th>Mystery</th>\n",
              "      <th>N/A</th>\n",
              "      <th>News</th>\n",
              "      <th>Reality-TV</th>\n",
              "      <th>Romance</th>\n",
              "      <th>Sci-Fi</th>\n",
              "      <th>Short</th>\n",
              "      <th>Sport</th>\n",
              "      <th>Thriller</th>\n",
              "      <th>War</th>\n",
              "      <th>Western</th>\n",
              "    </tr>\n",
              "  </thead>\n",
              "  <tbody>\n",
              "    <tr>\n",
              "      <th>0</th>\n",
              "      <td>tt0086425</td>\n",
              "      <td>['Comedy', 'Drama']</td>\n",
              "      <td>0</td>\n",
              "      <td>0</td>\n",
              "      <td>0</td>\n",
              "      <td>0</td>\n",
              "      <td>1</td>\n",
              "      <td>0</td>\n",
              "      <td>0</td>\n",
              "      <td>1</td>\n",
              "      <td>0</td>\n",
              "      <td>0</td>\n",
              "      <td>0</td>\n",
              "      <td>0</td>\n",
              "      <td>0</td>\n",
              "      <td>0</td>\n",
              "      <td>0</td>\n",
              "      <td>0</td>\n",
              "      <td>0</td>\n",
              "      <td>0</td>\n",
              "      <td>0</td>\n",
              "      <td>0</td>\n",
              "      <td>0</td>\n",
              "      <td>0</td>\n",
              "      <td>0</td>\n",
              "      <td>0</td>\n",
              "      <td>0</td>\n",
              "    </tr>\n",
              "    <tr>\n",
              "      <th>1</th>\n",
              "      <td>tt0085549</td>\n",
              "      <td>['Drama', 'Romance', 'Music']</td>\n",
              "      <td>0</td>\n",
              "      <td>0</td>\n",
              "      <td>0</td>\n",
              "      <td>0</td>\n",
              "      <td>0</td>\n",
              "      <td>0</td>\n",
              "      <td>0</td>\n",
              "      <td>1</td>\n",
              "      <td>0</td>\n",
              "      <td>0</td>\n",
              "      <td>0</td>\n",
              "      <td>0</td>\n",
              "      <td>1</td>\n",
              "      <td>0</td>\n",
              "      <td>0</td>\n",
              "      <td>0</td>\n",
              "      <td>0</td>\n",
              "      <td>0</td>\n",
              "      <td>1</td>\n",
              "      <td>0</td>\n",
              "      <td>0</td>\n",
              "      <td>0</td>\n",
              "      <td>0</td>\n",
              "      <td>0</td>\n",
              "      <td>0</td>\n",
              "    </tr>\n",
              "    <tr>\n",
              "      <th>2</th>\n",
              "      <td>tt0086465</td>\n",
              "      <td>['Comedy']</td>\n",
              "      <td>0</td>\n",
              "      <td>0</td>\n",
              "      <td>0</td>\n",
              "      <td>0</td>\n",
              "      <td>1</td>\n",
              "      <td>0</td>\n",
              "      <td>0</td>\n",
              "      <td>0</td>\n",
              "      <td>0</td>\n",
              "      <td>0</td>\n",
              "      <td>0</td>\n",
              "      <td>0</td>\n",
              "      <td>0</td>\n",
              "      <td>0</td>\n",
              "      <td>0</td>\n",
              "      <td>0</td>\n",
              "      <td>0</td>\n",
              "      <td>0</td>\n",
              "      <td>0</td>\n",
              "      <td>0</td>\n",
              "      <td>0</td>\n",
              "      <td>0</td>\n",
              "      <td>0</td>\n",
              "      <td>0</td>\n",
              "      <td>0</td>\n",
              "    </tr>\n",
              "    <tr>\n",
              "      <th>3</th>\n",
              "      <td>tt0086567</td>\n",
              "      <td>['Sci-Fi', 'Thriller']</td>\n",
              "      <td>0</td>\n",
              "      <td>0</td>\n",
              "      <td>0</td>\n",
              "      <td>0</td>\n",
              "      <td>0</td>\n",
              "      <td>0</td>\n",
              "      <td>0</td>\n",
              "      <td>0</td>\n",
              "      <td>0</td>\n",
              "      <td>0</td>\n",
              "      <td>0</td>\n",
              "      <td>0</td>\n",
              "      <td>0</td>\n",
              "      <td>0</td>\n",
              "      <td>0</td>\n",
              "      <td>0</td>\n",
              "      <td>0</td>\n",
              "      <td>0</td>\n",
              "      <td>0</td>\n",
              "      <td>1</td>\n",
              "      <td>0</td>\n",
              "      <td>0</td>\n",
              "      <td>1</td>\n",
              "      <td>0</td>\n",
              "      <td>0</td>\n",
              "    </tr>\n",
              "    <tr>\n",
              "      <th>4</th>\n",
              "      <td>tt0086034</td>\n",
              "      <td>['Action', 'Adventure', 'Thriller']</td>\n",
              "      <td>1</td>\n",
              "      <td>1</td>\n",
              "      <td>0</td>\n",
              "      <td>0</td>\n",
              "      <td>0</td>\n",
              "      <td>0</td>\n",
              "      <td>0</td>\n",
              "      <td>0</td>\n",
              "      <td>0</td>\n",
              "      <td>0</td>\n",
              "      <td>0</td>\n",
              "      <td>0</td>\n",
              "      <td>0</td>\n",
              "      <td>0</td>\n",
              "      <td>0</td>\n",
              "      <td>0</td>\n",
              "      <td>0</td>\n",
              "      <td>0</td>\n",
              "      <td>0</td>\n",
              "      <td>0</td>\n",
              "      <td>0</td>\n",
              "      <td>0</td>\n",
              "      <td>1</td>\n",
              "      <td>0</td>\n",
              "      <td>0</td>\n",
              "    </tr>\n",
              "  </tbody>\n",
              "</table>\n",
              "</div>"
            ],
            "text/plain": [
              "          Id                                Genre  ...  War  Western\n",
              "0  tt0086425                  ['Comedy', 'Drama']  ...    0        0\n",
              "1  tt0085549        ['Drama', 'Romance', 'Music']  ...    0        0\n",
              "2  tt0086465                           ['Comedy']  ...    0        0\n",
              "3  tt0086567               ['Sci-Fi', 'Thriller']  ...    0        0\n",
              "4  tt0086034  ['Action', 'Adventure', 'Thriller']  ...    0        0\n",
              "\n",
              "[5 rows x 27 columns]"
            ]
          },
          "metadata": {
            "tags": []
          },
          "execution_count": 6
        }
      ]
    },
    {
      "cell_type": "code",
      "metadata": {
        "id": "vwLIiUl7GLVs",
        "colab_type": "code",
        "outputId": "d2d0b34e-9fcc-48c1-9c76-ce114c6697ed",
        "colab": {
          "base_uri": "https://localhost:8080/",
          "height": 121
        }
      },
      "source": [
        "train.columns"
      ],
      "execution_count": 7,
      "outputs": [
        {
          "output_type": "execute_result",
          "data": {
            "text/plain": [
              "Index(['Id', 'Genre', 'Action', 'Adventure', 'Animation', 'Biography',\n",
              "       'Comedy', 'Crime', 'Documentary', 'Drama', 'Family', 'Fantasy',\n",
              "       'History', 'Horror', 'Music', 'Musical', 'Mystery', 'N/A', 'News',\n",
              "       'Reality-TV', 'Romance', 'Sci-Fi', 'Short', 'Sport', 'Thriller', 'War',\n",
              "       'Western'],\n",
              "      dtype='object')"
            ]
          },
          "metadata": {
            "tags": []
          },
          "execution_count": 7
        }
      ]
    },
    {
      "cell_type": "code",
      "metadata": {
        "id": "DwRzoyg8GPVI",
        "colab_type": "code",
        "outputId": "5514e2f1-450b-4b76-8f16-21a95483ab20",
        "colab": {
          "base_uri": "https://localhost:8080/",
          "height": 69
        }
      },
      "source": [
        "#Download images from google drive\n",
        "pattern=re.compile('[a-zA-Z0-9]+[.]jpg')\n",
        "local_img_path=os.path.expanduser(os.getcwd()+'/Images')\n",
        "try:\n",
        "    os.makedirs(local_img_path)\n",
        "except: pass\n",
        "\n",
        "print(local_img_path)\n",
        "img_folder_link='https://drive.google.com/open?id=1zoWXcDzfjxeYbvOknbGU5WyM707yDGcP'\n",
        "temp,img_folder_id=img_folder_link.split('=')\n",
        "print(img_folder_id)\n",
        "#downloaded=drive.CreateFile({'id':img_folder_id})\n",
        "#downloaded.GetContentFile('Images')\n",
        "fileList=drive.ListFile({'q':\"'{}' in parents\".format(str(img_folder_id))}).GetList()\n",
        "for f in tqdm(fileList):\n",
        "    #print(f['title'])\n",
        "    if bool(re.match(pattern,f['title'])):\n",
        "        try:\n",
        "            fname=os.path.join(local_img_path,f['title'])\n",
        "            downloaded=drive.CreateFile({'id':f['id']})\n",
        "            downloaded.GetContentFile(fname)\n",
        "        except: pass"
      ],
      "execution_count": 0,
      "outputs": [
        {
          "output_type": "stream",
          "text": [
            "/content/Images\n",
            "1zoWXcDzfjxeYbvOknbGU5WyM707yDGcP\n"
          ],
          "name": "stdout"
        },
        {
          "output_type": "stream",
          "text": [
            "100%|██████████| 7876/7876 [1:00:24<00:00,  2.37it/s]\n"
          ],
          "name": "stderr"
        }
      ]
    },
    {
      "cell_type": "code",
      "metadata": {
        "id": "i-8-xFe36iDM",
        "colab_type": "code",
        "outputId": "68879580-a1d5-46ab-a6f1-613975197e48",
        "colab": {
          "base_uri": "https://localhost:8080/",
          "height": 124
        }
      },
      "source": [
        ""
      ],
      "execution_count": 0,
      "outputs": [
        {
          "output_type": "stream",
          "text": [
            "Go to this URL in a browser: https://accounts.google.com/o/oauth2/auth?client_id=947318989803-6bn6qk8qdgf4n4g3pfee6491hc0brc4i.apps.googleusercontent.com&redirect_uri=urn%3Aietf%3Awg%3Aoauth%3A2.0%3Aoob&scope=email%20https%3A%2F%2Fwww.googleapis.com%2Fauth%2Fdocs.test%20https%3A%2F%2Fwww.googleapis.com%2Fauth%2Fdrive%20https%3A%2F%2Fwww.googleapis.com%2Fauth%2Fdrive.photos.readonly%20https%3A%2F%2Fwww.googleapis.com%2Fauth%2Fpeopleapi.readonly&response_type=code\n",
            "\n",
            "Enter your authorization code:\n",
            "··········\n",
            "Mounted at /content/drive\n"
          ],
          "name": "stdout"
        }
      ]
    },
    {
      "cell_type": "code",
      "metadata": {
        "id": "cdZ8zkmYGzs8",
        "colab_type": "code",
        "outputId": "5b2de1c1-8c17-49ed-9287-c25de09b7d06",
        "colab": {
          "base_uri": "https://localhost:8080/",
          "height": 35
        }
      },
      "source": [
        "import re\n",
        "pattern=re.compile('[a-zA-Z0-9]+[.]jpg')\n",
        "print(bool(re.match(pattern,'23sdf3dsfds45.jpg')))"
      ],
      "execution_count": 0,
      "outputs": [
        {
          "output_type": "stream",
          "text": [
            "True\n"
          ],
          "name": "stdout"
        }
      ]
    },
    {
      "cell_type": "code",
      "metadata": {
        "id": "huovetjMNPz1",
        "colab_type": "code",
        "colab": {}
      },
      "source": [
        "train_image=[]\n",
        "def load_data(start,end,pos):\n",
        "    print('in load data:',start,end)\n",
        "    #i=i[0]\n",
        "    temp=[]\n",
        "    for i in range(start,end+1):\n",
        "        img=image.load_img('/content/drive/My Drive/Datsets/Multi_label_image_classification/Images/'+train['Id'][i]+'.jpg',target_size=(400,400,3))\n",
        "        img=image.img_to_array(img)\n",
        "        img=img/255\n",
        "        temp.append(img)\n",
        "    with open('/content/drive/My Drive/Datsets/Multi_label_image_classification/train_image_'+str(pos)+'.bkp','wb') as f:\n",
        "        pickle.dump(temp,f)\n",
        "    #train_image.append(temp)\n",
        "    "
      ],
      "execution_count": 0,
      "outputs": []
    },
    {
      "cell_type": "code",
      "metadata": {
        "id": "XwJcGjeKAQk5",
        "colab_type": "code",
        "outputId": "675194d4-e0f7-4ce6-f6a5-41a6d1a92829",
        "colab": {
          "base_uri": "https://localhost:8080/",
          "height": 69
        }
      },
      "source": [
        "#preprocessing the data\n",
        "print(train.shape)\n",
        "X=[]\n",
        "try:\n",
        "    with open('/content/drive/My Drive/Datsets/Multi_label_image_classification/trainX.bkp',rb) as f:\n",
        "        X=pickle.load(f)\n",
        "except: pass\n",
        "pool=mp.Pool(4)\n",
        "print('X:',X)\n",
        "args_list=[]\n",
        "threads_list=[]\n",
        "if len(X)==0:\n",
        "    start=0\n",
        "    end= -1   #train.shape[0]//4\n",
        "    a=[]\n",
        "    for i in range(4):   #cpu_count\n",
        "        start=end+1    \n",
        "        end=start+(train.shape[0]//4)\n",
        "        if i==3:\n",
        "            end=train.shape[0]-1\n",
        "        temp_arg=[start,end]\n",
        "        args_list.append(temp_arg)\n",
        "print(args_list)\n",
        "    "
      ],
      "execution_count": 28,
      "outputs": [
        {
          "output_type": "stream",
          "text": [
            "(7254, 27)\n",
            "X: []\n",
            "[[0, 1813], [1814, 3627], [3628, 5441], [5442, 7253]]\n"
          ],
          "name": "stdout"
        }
      ]
    },
    {
      "cell_type": "code",
      "metadata": {
        "id": "G-o_1KXvyJom",
        "colab_type": "code",
        "colab": {
          "base_uri": "https://localhost:8080/",
          "height": 35
        },
        "outputId": "877e7c74-2938-405a-b9c9-df6379c1fbc0"
      },
      "source": [
        "backup_exists=False\n",
        "for i in range(len(args_list)):\n",
        "    try:\n",
        "        f=open('/content/drive/My Drive/Datsets/Multi_label_image_classification/train_image_'+str(i)+'.bkp','rb')\n",
        "        backup_exists=True\n",
        "    except:\n",
        "        backup_exists=False\n",
        "        break\n",
        "\n",
        "print(backup_exists)"
      ],
      "execution_count": 25,
      "outputs": [
        {
          "output_type": "stream",
          "text": [
            "False\n"
          ],
          "name": "stdout"
        }
      ]
    },
    {
      "cell_type": "code",
      "metadata": {
        "id": "pPXr7XvMyCPM",
        "colab_type": "code",
        "colab": {
          "base_uri": "https://localhost:8080/",
          "height": 191
        },
        "outputId": "f32e2a1b-7d85-471a-a49d-5af5c22e2805"
      },
      "source": [
        "if len(X)==0 and backup_exists==False:\n",
        "    for i,val in tqdm(enumerate(args_list)):\n",
        "        print('i:',i,val)        \n",
        "        #th_temp=th.Thread(target=load_data,args=(val[0],val[1],i),)\n",
        "        #threads_list.append(th_temp)\n",
        "        load_data(val[0],val[1],i)\n",
        "\n",
        "    #for th in threads_list:\n",
        "    #    th.start()\n",
        "\n",
        "    #for th in threads_list:\n",
        "    #    th.join()\n",
        "    \n",
        "    #train_image=pool.map(load_data,(val for val in args_list))\n",
        "\n",
        "    #pool.close()\n",
        "    #pool.join()\n",
        "    #train_image=[r.get() for r in result_objects]\n",
        "    print('done parallel...')\n",
        "    "
      ],
      "execution_count": 29,
      "outputs": [
        {
          "output_type": "stream",
          "text": [
            "\r0it [00:00, ?it/s]"
          ],
          "name": "stderr"
        },
        {
          "output_type": "stream",
          "text": [
            "i: 0 [0, 1813]\n",
            "in load data: 0 1813\n"
          ],
          "name": "stdout"
        },
        {
          "output_type": "stream",
          "text": [
            "\r1it [18:41, 1121.88s/it]"
          ],
          "name": "stderr"
        },
        {
          "output_type": "stream",
          "text": [
            "i: 1 [1814, 3627]\n",
            "in load data: 1814 3627\n"
          ],
          "name": "stdout"
        },
        {
          "output_type": "stream",
          "text": [
            "\r2it [35:01, 1079.12s/it]"
          ],
          "name": "stderr"
        },
        {
          "output_type": "stream",
          "text": [
            "i: 2 [3628, 5441]\n",
            "in load data: 3628 5441\n"
          ],
          "name": "stdout"
        },
        {
          "output_type": "stream",
          "text": [
            "\r3it [51:41, 1055.50s/it]"
          ],
          "name": "stderr"
        },
        {
          "output_type": "stream",
          "text": [
            "i: 3 [5442, 7253]\n",
            "in load data: 5442 7253\n"
          ],
          "name": "stdout"
        },
        {
          "output_type": "stream",
          "text": [
            "\r4it [1:08:48, 1046.78s/it]"
          ],
          "name": "stderr"
        },
        {
          "output_type": "stream",
          "text": [
            "done parallel...\n"
          ],
          "name": "stdout"
        },
        {
          "output_type": "stream",
          "text": [
            "\n"
          ],
          "name": "stderr"
        }
      ]
    },
    {
      "cell_type": "code",
      "metadata": {
        "id": "JkItMPdkZEfN",
        "colab_type": "code",
        "outputId": "6b39748c-5459-4c6b-92be-54d566dc8542",
        "colab": {
          "base_uri": "https://localhost:8080/",
          "height": 35
        }
      },
      "source": [
        "\n",
        "train_image = []\n",
        "for i in tqdm(range(train.shape[0])):\n",
        "    img = image.load_img('/content/Images/'+train['Id'][i]+'.jpg',target_size=(400,400,3))\n",
        "    img = image.img_to_array(img)\n",
        "    img = img/255\n",
        "    train_image.append(img)\n",
        "X = np.array(train_image)\n",
        "\n",
        "#X=np.array(train_image)"
      ],
      "execution_count": 0,
      "outputs": [
        {
          "output_type": "stream",
          "text": [
            "100%|██████████| 7254/7254 [00:48<00:00, 149.76it/s]\n"
          ],
          "name": "stderr"
        }
      ]
    },
    {
      "cell_type": "code",
      "metadata": {
        "id": "SOGiKXdhBtiv",
        "colab_type": "code",
        "colab": {}
      },
      "source": [
        "with open('/content/drive/My Drive/Datsets/Multi_label_image_classification/trainX.bkp','wb') as f:\n",
        "    pickle.dump(X,f)"
      ],
      "execution_count": 0,
      "outputs": []
    },
    {
      "cell_type": "code",
      "metadata": {
        "id": "tdfBQBaoKW6x",
        "colab_type": "code",
        "colab": {
          "base_uri": "https://localhost:8080/",
          "height": 35
        },
        "outputId": "55f7ad83-bab3-4ae0-f481-539ba9b16045"
      },
      "source": [
        "#create the Y\n",
        "y=np.array(train.drop(['Id','Genre'],axis=1))\n",
        "print(y.shape)"
      ],
      "execution_count": 30,
      "outputs": [
        {
          "output_type": "stream",
          "text": [
            "(7254, 25)\n"
          ],
          "name": "stdout"
        }
      ]
    },
    {
      "cell_type": "code",
      "metadata": {
        "id": "CqOyybNGLjbP",
        "colab_type": "code",
        "colab": {}
      },
      "source": [
        "#setup the model\n",
        "model=Sequential()\n",
        "model.add(Conv2D(filters=16,kernel_size=(5,5),activation='relu',input_shape=(400,400,3)))\n",
        "model.add(MaxPool2D(pool_size=(2,2)))\n",
        "model.add(Dropout(0.25))\n",
        "model.add(Conv2D(filters=32,kernel_size=(5,5),activation='relu'))\n",
        "model.add(MaxPool2D(pool_size=(2,2)))\n",
        "model.add(Dropout(0.25))\n",
        "model.add(Conv2D(filters=64,kernel_size=(5,5),activation='relu'))\n",
        "model.add(MaxPool2D(pool_size=(2,2)))\n",
        "model.add(Dropout(0.25))\n",
        "model.add(Conv2D(filters=64,kernel_size=(5,5),activation='relu'))\n",
        "model.add(MaxPool2D(pool_size=(2,2)))\n",
        "model.add(Dropout(0.25))\n",
        "model.add(Flatten())\n",
        "model.add(Dense(128,activation='relu'))\n",
        "model.add(Dropout(0.5))\n",
        "model.add(Dense(64,activation='relu'))\n",
        "model.add(Dropout(0.5))\n",
        "model.add(Dense(25,activation='sigmoid'))\n"
      ],
      "execution_count": 0,
      "outputs": []
    },
    {
      "cell_type": "code",
      "metadata": {
        "id": "5aUS5w9cLnwN",
        "colab_type": "code",
        "outputId": "d85dc363-3374-4948-a7ea-66e21fb73b43",
        "colab": {
          "base_uri": "https://localhost:8080/",
          "height": 780
        }
      },
      "source": [
        "model.summary()"
      ],
      "execution_count": 32,
      "outputs": [
        {
          "output_type": "stream",
          "text": [
            "Model: \"sequential_2\"\n",
            "_________________________________________________________________\n",
            "Layer (type)                 Output Shape              Param #   \n",
            "=================================================================\n",
            "conv2d_5 (Conv2D)            (None, 396, 396, 16)      1216      \n",
            "_________________________________________________________________\n",
            "max_pooling2d_5 (MaxPooling2 (None, 198, 198, 16)      0         \n",
            "_________________________________________________________________\n",
            "dropout_7 (Dropout)          (None, 198, 198, 16)      0         \n",
            "_________________________________________________________________\n",
            "conv2d_6 (Conv2D)            (None, 194, 194, 32)      12832     \n",
            "_________________________________________________________________\n",
            "max_pooling2d_6 (MaxPooling2 (None, 97, 97, 32)        0         \n",
            "_________________________________________________________________\n",
            "dropout_8 (Dropout)          (None, 97, 97, 32)        0         \n",
            "_________________________________________________________________\n",
            "conv2d_7 (Conv2D)            (None, 93, 93, 64)        51264     \n",
            "_________________________________________________________________\n",
            "max_pooling2d_7 (MaxPooling2 (None, 46, 46, 64)        0         \n",
            "_________________________________________________________________\n",
            "dropout_9 (Dropout)          (None, 46, 46, 64)        0         \n",
            "_________________________________________________________________\n",
            "conv2d_8 (Conv2D)            (None, 42, 42, 64)        102464    \n",
            "_________________________________________________________________\n",
            "max_pooling2d_8 (MaxPooling2 (None, 21, 21, 64)        0         \n",
            "_________________________________________________________________\n",
            "dropout_10 (Dropout)         (None, 21, 21, 64)        0         \n",
            "_________________________________________________________________\n",
            "flatten_2 (Flatten)          (None, 28224)             0         \n",
            "_________________________________________________________________\n",
            "dense_4 (Dense)              (None, 128)               3612800   \n",
            "_________________________________________________________________\n",
            "dropout_11 (Dropout)         (None, 128)               0         \n",
            "_________________________________________________________________\n",
            "dense_5 (Dense)              (None, 64)                8256      \n",
            "_________________________________________________________________\n",
            "dropout_12 (Dropout)         (None, 64)                0         \n",
            "_________________________________________________________________\n",
            "dense_6 (Dense)              (None, 25)                1625      \n",
            "=================================================================\n",
            "Total params: 3,790,457\n",
            "Trainable params: 3,790,457\n",
            "Non-trainable params: 0\n",
            "_________________________________________________________________\n"
          ],
          "name": "stdout"
        }
      ]
    },
    {
      "cell_type": "code",
      "metadata": {
        "id": "d566iVGULzH5",
        "colab_type": "code",
        "colab": {}
      },
      "source": [
        "model.compile(optimizer='adam',loss='binary_crossentropy',metrics=['accuracy'])"
      ],
      "execution_count": 0,
      "outputs": []
    },
    {
      "cell_type": "code",
      "metadata": {
        "id": "W9Rg9nqHiBOk",
        "colab_type": "code",
        "colab": {}
      },
      "source": [
        "X=[]\n",
        "for i,val in enumerate(args_list):\n",
        "    with open('/content/drive/My Drive/Datsets/Multi_label_image_classification/train_image_'+str(i)+'.bkp','rb') as f:\n",
        "        train_image=pickle.load(f)\n",
        "        X=np.array(train_image)\n",
        "        y_temp=y[val[0]:val[1]+1]\n",
        "        X_train,X_test,y_train,y_test=train_test_split(X,y_temp,random_state=42,test_size=0.1)\n",
        "#X=[]\n",
        "        model.fit(X_train,y_train,epochs=10,validation_data=(X_test,y_test),batch_size=64)\n",
        "\n",
        "with open('/content/drive/My Drive/Datsets/Multi_label_image_classification/trained_model.bkp','wb') as f:\n",
        "    pickle.dump(model,f)"
      ],
      "execution_count": 0,
      "outputs": []
    },
    {
      "cell_type": "code",
      "metadata": {
        "id": "xI9AwDM69fb6",
        "colab_type": "code",
        "colab": {}
      },
      "source": [
        "X=[]"
      ],
      "execution_count": 0,
      "outputs": []
    },
    {
      "cell_type": "code",
      "metadata": {
        "id": "qaR3nD5-iGHd",
        "colab_type": "code",
        "colab": {
          "base_uri": "https://localhost:8080/",
          "height": 35
        },
        "outputId": "864e4a3c-7c93-4e11-fdd5-70741b85f7dc"
      },
      "source": [
        "X.extend(np.array([1,2,3]))\n",
        "X"
      ],
      "execution_count": 42,
      "outputs": [
        {
          "output_type": "execute_result",
          "data": {
            "text/plain": [
              "[1, 2, 3]"
            ]
          },
          "metadata": {
            "tags": []
          },
          "execution_count": 42
        }
      ]
    },
    {
      "cell_type": "code",
      "metadata": {
        "id": "A4OhV5T_j-F4",
        "colab_type": "code",
        "colab": {
          "base_uri": "https://localhost:8080/",
          "height": 35
        },
        "outputId": "6864e625-58c1-409e-a742-152b5c3d3930"
      },
      "source": [
        "X.extend(np.array([1,2,3]))\n",
        "X"
      ],
      "execution_count": 43,
      "outputs": [
        {
          "output_type": "execute_result",
          "data": {
            "text/plain": [
              "[1, 2, 3, 1, 2, 3]"
            ]
          },
          "metadata": {
            "tags": []
          },
          "execution_count": 43
        }
      ]
    },
    {
      "cell_type": "code",
      "metadata": {
        "id": "wfdTE1YAkIk1",
        "colab_type": "code",
        "colab": {}
      },
      "source": [
        "train_image=[]"
      ],
      "execution_count": 0,
      "outputs": []
    },
    {
      "cell_type": "code",
      "metadata": {
        "id": "h6BL5BHJySQF",
        "colab_type": "code",
        "colab": {}
      },
      "source": [
        ""
      ],
      "execution_count": 0,
      "outputs": []
    }
  ]
}